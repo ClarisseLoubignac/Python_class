{
  "nbformat": 4,
  "nbformat_minor": 0,
  "metadata": {
    "colab": {
      "provenance": [],
      "toc_visible": true,
      "authorship_tag": "ABX9TyPYe9ZzjfUFQX+WylhbeWQp",
      "include_colab_link": true
    },
    "kernelspec": {
      "name": "python3",
      "display_name": "Python 3"
    },
    "language_info": {
      "name": "python"
    }
  },
  "cells": [
    {
      "cell_type": "markdown",
      "metadata": {
        "id": "view-in-github",
        "colab_type": "text"
      },
      "source": [
        "<a href=\"https://colab.research.google.com/github/ClarisseLoubignac/Python_class/blob/main/firstnotebook.ipynb\" target=\"_parent\"><img src=\"https://colab.research.google.com/assets/colab-badge.svg\" alt=\"Open In Colab\"/></a>"
      ]
    },
    {
      "cell_type": "markdown",
      "source": [
        "#Intro\n",
        "\n"
      ],
      "metadata": {
        "id": "zhTXrnC_JaKS"
      }
    },
    {
      "cell_type": "markdown",
      "source": [
        "##Just a random topic"
      ],
      "metadata": {
        "id": "z00bbrUZJz7N"
      }
    },
    {
      "cell_type": "markdown",
      "source": [
        "This is my first jupyter notebook document"
      ],
      "metadata": {
        "id": "x9sW4VTOIx-G"
      }
    },
    {
      "cell_type": "code",
      "source": [
        "#this is a comment\n",
        "# printing out the hello world statement\n",
        "print(\"Hello students!\")\n"
      ],
      "metadata": {
        "colab": {
          "base_uri": "https://localhost:8080/"
        },
        "id": "Wo6DmoRFJ_hK",
        "outputId": "3d6f2ef6-13fe-4f79-a45c-7dbac6fca110"
      },
      "execution_count": 2,
      "outputs": [
        {
          "output_type": "stream",
          "name": "stdout",
          "text": [
            "Hello students!\n"
          ]
        }
      ]
    },
    {
      "cell_type": "code",
      "source": [],
      "metadata": {
        "id": "P8rlBZZGJTTV"
      },
      "execution_count": null,
      "outputs": []
    }
  ]
}